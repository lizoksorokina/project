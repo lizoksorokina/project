{
 "cells": [
  {
   "cell_type": "markdown",
   "id": "623255b7-f799-4522-9c6a-962bd5d803fb",
   "metadata": {
    "id": "623255b7-f799-4522-9c6a-962bd5d803fb"
   },
   "source": [
    "# Вводная информация об объекте исследования\n",
    "Вы будете работать с данными, которые собираются с самосвалов, перевозящих породу (например, уголь) на карьере. На самосвалах стоят датчики, которые собирают множество различной информации (скорость, высота, расход топлива и тд). Данные с каждого датчика приходят вместе с временной меткой, идентификатором самосвала и его местоположением (координатами) в момент получения значения с датчика.\n",
    "\n",
    "Сам по себе карьер состоит из пунктов погрузки (откуда вывозят породу), пунктов разгрузки (куда её отвозят) и маршрутов между ними. На картинке показан пример исходных данных координат самосвалов (синие точки) и примерных дорог на карьере (фиолетовые). Пункты погрузки и разгрузки на картинке не указаны.\n",
    "\n",
    "Одним рейсом самосвала называется его движение от пункта погрузки до пункта разгрузки и обратно до пункта погрузки.\n",
    "\n",
    "![](https://drive.google.com/uc?export=view&id=1QLscdUpjOGU8m9WvN8ulKdC9YBWJyKw4)"
   ]
  },
  {
   "cell_type": "markdown",
   "id": "2e4cf6b2-4447-411d-a737-503b863cd56d",
   "metadata": {
    "id": "2e4cf6b2-4447-411d-a737-503b863cd56d"
   },
   "source": [
    "# Часть 1. SQL"
   ]
  },
  {
   "cell_type": "markdown",
   "id": "d2be13d4-e3e3-4e7b-8e9a-18909b667ac4",
   "metadata": {
    "id": "d2be13d4-e3e3-4e7b-8e9a-18909b667ac4"
   },
   "source": [
    "Дана упрощенная схема базы данных:\n",
    "\n",
    "![](https://drive.google.com/uc?export=view&id=1eZVg0OMLNh3Zn4Ss00oNw6KtcMYMTtdZ)\n",
    "\n",
    "**telemetry** - таблица с телеметрией карьерных самосвалов следующего формата:\n",
    "\n",
    "| id | objectid | time | sensorid | value | lat | lon | speed|\n",
    "| :-: |:-: |:-: |:-: |:-: |:-: |:-: |:-: |\n",
    "| 42 | 123 | 01.01.2024 | 21:00:54 | 35 | 85,694 | 51.384 | 41.857 | 15.81 |\n",
    "\n",
    "где\n",
    "* id - номер записи в таблице\n",
    "* objectid - идентификатор самосвала\n",
    "* time - момент времени\n",
    "* sensorid - идентификатор датчика\n",
    "* value - значение, которое передал датчик\n",
    "* lat, lon - координаты\n",
    "* speed - текущая скорость самосвала\n",
    "\n",
    "**objects** - таблица, в которой хранится информация о самосвалах:\n",
    "\n",
    "| id | modelname | enterprise_id | created_at |\n",
    "| :-: |:-: |:-: |:-: |\n",
    "| 123 | БелАЗ-75131 | 4 | 01.01.2024 | 00:00:00 |\n",
    "\n",
    "где\n",
    "* id - идентификатор самосвала\n",
    "* modelname - модель самосвала\n",
    "* enterprise_id - идентификатор предприятия\n",
    "* created_at - временная метка создания записи\n",
    "\n",
    "**sensors** - таблица с описанием датчиков:\n",
    "\n",
    "| id | name | tag | min_value | max_value |\n",
    "| :-: |:-: |:-: |:-: | :-: |\n",
    "| 35 | Вес | weight | 0 | 180 |\n",
    "\n",
    "где\n",
    "* id - идентификатор датчика\n",
    "* name - наименование датчика\n",
    "* tag - тег датчика\n",
    "* min_value - минимальное допустимое значение датчика\n",
    "* max_value - максимальное допустимое значение датчика\n"
   ]
  },
  {
   "cell_type": "markdown",
   "id": "c6850084-914c-4a37-9a67-9195008b0338",
   "metadata": {
    "id": "c6850084-914c-4a37-9a67-9195008b0338"
   },
   "source": [
    "## Задание 1\n",
    "Необходимо написать запрос, который для каждого самосвала модели “БелАЗ-75320” на предприятии с id = 6 выведет процент количества записей телеметрии, когда значение тега высоты (height) находилось в допустимых пределах, относительно всех записей по данному датчику за последние сутки."
   ]
  },
  {
   "cell_type": "code",
   "execution_count": null,
   "id": "0ccf79f3-f215-4505-b6df-200ab2f64119",
   "metadata": {
    "id": "0ccf79f3-f215-4505-b6df-200ab2f64119"
   },
   "outputs": [],
   "source": [
    "WITH correct AS (\n",
    "    SELECT\n",
    "        o.id AS objectid,\n",
    "        t.id,\n",
    "        COUNT(*) AS amount\n",
    "    FROM\n",
    "        objects AS o\n",
    "    JOIN\n",
    "        telemetry AS t ON o.id = t.objectid\n",
    "    JOIN\n",
    "        sensors AS s ON t.sensorid = s.id\n",
    "    WHERE\n",
    "        o.modelname = 'БелАЗ-75320'\n",
    "        AND o.enterprise_id = 6\n",
    "        AND t.time >= NOW() - INTERVAL 1 DAY\n",
    "        AND t.value BETWEEN s.min_value AND s.max_value\n",
    "        AND s.tag = 'height'\n",
    "    GROUP BY\n",
    "        o.id, t.id\n",
    "),\n",
    "all_data AS (\n",
    "    SELECT\n",
    "        o.id AS objectid,\n",
    "        t.id,\n",
    "        COUNT(*) AS amount\n",
    "    FROM\n",
    "        objects AS o\n",
    "    JOIN\n",
    "        telemetry AS t ON o.id = t.objectid\n",
    "    JOIN\n",
    "        sensors AS s ON t.sensorid = s.id\n",
    "    WHERE\n",
    "        t.time >= NOW() - INTERVAL 1 DAY\n",
    "        AND s.tag = 'height'\n",
    "    GROUP BY\n",
    "        o.id, t.id\n",
    ")\n",
    "SELECT\n",
    "    c.objectid,\n",
    "    c.id,\n",
    "    c.amount / a.amount AS percentage_valid\n",
    "FROM\n",
    "    correct c\n",
    "LEFT JOIN\n",
    "    all_data a ON a.objectid = c.objectid AND a.id = c.id;\n"
   ]
  },
  {
   "cell_type": "markdown",
   "id": "dc752c0c-4afe-452c-bd5a-933c5b908f80",
   "metadata": {
    "id": "dc752c0c-4afe-452c-bd5a-933c5b908f80"
   },
   "source": [
    " Задание 2\n",
    "Необходимо написать запрос, для вывода уникальных значений по датчику satenum (количество доступных спутников связи) для каждого самосвала с идентификатором из списка [34, 42, 99] за последние двое суток."
   ]
  },
  {
   "cell_type": "code",
   "execution_count": null,
   "id": "0218844e",
   "metadata": {},
   "outputs": [],
   "source": [
    "\n",
    "\n",
    "SELECT\n",
    "    t.objectid,\n",
    "    t.sensorid,\n",
    "    t.value,\n",
    "    t.time \n",
    "FROM\n",
    "    telemetry t\n",
    "JOIN\n",
    "    sensors s ON t.sensorid = s.id\n",
    "WHERE\n",
    "    t.objectid IN (34, 42, 99)\n",
    "    AND t.time >= NOW() - INTERVAL 2 DAY\n",
    "    AND s.tag = 'satenum'\n",
    "GROUP BY\n",
    "    t.objectid, t.sensorid, t.value, t.time;\n",
    "\n",
    "\n",
    "\n",
    "\n",
    "\n"
   ]
  },
  {
   "cell_type": "markdown",
   "id": "eb76d8f8-64d5-4127-ada9-6b3db41816a8",
   "metadata": {
    "id": "eb76d8f8-64d5-4127-ada9-6b3db41816a8"
   },
   "source": [
    "## Задание 3\n",
    "В таблицу с телеметрией собираются данные с датчика уровня топлива в процентах (тег fuel_tank_level). В данной задаче будем считать, что самосвалы в течение последнего часа ездят непрерывно, а значит и уровень топлива постепенно снижается. Необходимо написать запрос, который для каждого самосвала модели “БелАЗ-75131” вернет 1, если был зафиксирован хоть один случай, когда между двумя последовательными временными точками изменение уровня топлива было более 5%, или вывести 0, если подобной аномалии не было."
   ]
  },
  {
   "cell_type": "code",
   "execution_count": null,
   "id": "aa6cb05b-0d83-4fc0-abac-808f80d09f12",
   "metadata": {
    "id": "aa6cb05b-0d83-4fc0-abac-808f80d09f12"
   },
   "outputs": [],
   "source": [
    "SELECT\n",
    "    t.objectid,\n",
    "    CASE\n",
    "        WHEN ABS(t.value - LAG(t.value) OVER (ORDER BY t.time)) > 5 THEN 1\n",
    "        ELSE 0\n",
    "    END AS была_аномалия\n",
    "FROM\n",
    "    telemetry t\n",
    "JOIN\n",
    "    objects o ON t.objectid = o.id\n",
    "JOIN\n",
    "    sensors s ON t.sensorid = s.id\n",
    "WHERE\n",
    "    o.modelname = 'БелАЗ-75131'\n",
    "    AND s.tag = 'fuel_tank_level'\n",
    "    AND t.time >= NOW() - INTERVAL 1 HOUR\n",
    "GROUP BY\n",
    "    t.objectid;\n"
   ]
  }
 ],
 "metadata": {
  "colab": {
   "provenance": []
  },
  "kernelspec": {
   "display_name": "Python 3 (ipykernel)",
   "language": "python",
   "name": "python3"
  },
  "language_info": {
   "codemirror_mode": {
    "name": "ipython",
    "version": 3
   },
   "file_extension": ".py",
   "mimetype": "text/x-python",
   "name": "python",
   "nbconvert_exporter": "python",
   "pygments_lexer": "ipython3",
   "version": "3.11.5"
  }
 },
 "nbformat": 4,
 "nbformat_minor": 5
}
